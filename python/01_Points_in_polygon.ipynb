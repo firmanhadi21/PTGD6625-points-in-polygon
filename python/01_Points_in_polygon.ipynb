{
  "nbformat": 4,
  "nbformat_minor": 0,
  "metadata": {
    "colab": {
      "provenance": []
    },
    "kernelspec": {
      "name": "python3",
      "display_name": "Python 3"
    },
    "language_info": {
      "name": "python"
    }
  },
  "cells": [
    {
      "cell_type": "code",
      "source": [
        "!pip install geopandas\n",
        "!pip install shapely\n",
        "!pip install matplotlib\n"
      ],
      "metadata": {
        "id": "_06u-hIHoEaN",
        "colab": {
          "base_uri": "https://localhost:8080/"
        },
        "outputId": "541df4bc-bb3a-49ef-a72f-32f3b7c18974"
      },
      "execution_count": null,
      "outputs": [
        {
          "output_type": "stream",
          "name": "stdout",
          "text": [
            "Looking in indexes: https://pypi.org/simple, https://us-python.pkg.dev/colab-wheels/public/simple/\n",
            "Collecting geopandas\n",
            "  Downloading geopandas-0.12.2-py3-none-any.whl (1.1 MB)\n",
            "\u001b[2K     \u001b[90m━━━━━━━━━━━━━━━━━━━━━━━━━━━━━━━━━━━━━━━━\u001b[0m \u001b[32m1.1/1.1 MB\u001b[0m \u001b[31m15.7 MB/s\u001b[0m eta \u001b[36m0:00:00\u001b[0m\n",
            "\u001b[?25hRequirement already satisfied: shapely>=1.7 in /usr/local/lib/python3.8/dist-packages (from geopandas) (2.0.1)\n",
            "Collecting pyproj>=2.6.1.post1\n",
            "  Downloading pyproj-3.4.1-cp38-cp38-manylinux_2_17_x86_64.manylinux2014_x86_64.whl (7.8 MB)\n",
            "\u001b[2K     \u001b[90m━━━━━━━━━━━━━━━━━━━━━━━━━━━━━━━━━━━━━━━━\u001b[0m \u001b[32m7.8/7.8 MB\u001b[0m \u001b[31m57.3 MB/s\u001b[0m eta \u001b[36m0:00:00\u001b[0m\n",
            "\u001b[?25hCollecting fiona>=1.8\n",
            "  Downloading Fiona-1.9.1-cp38-cp38-manylinux_2_17_x86_64.manylinux2014_x86_64.whl (16.0 MB)\n",
            "\u001b[2K     \u001b[90m━━━━━━━━━━━━━━━━━━━━━━━━━━━━━━━━━━━━━━━━\u001b[0m \u001b[32m16.0/16.0 MB\u001b[0m \u001b[31m48.5 MB/s\u001b[0m eta \u001b[36m0:00:00\u001b[0m\n",
            "\u001b[?25hRequirement already satisfied: pandas>=1.0.0 in /usr/local/lib/python3.8/dist-packages (from geopandas) (1.3.5)\n",
            "Requirement already satisfied: packaging in /usr/local/lib/python3.8/dist-packages (from geopandas) (23.0)\n",
            "Collecting munch>=2.3.2\n",
            "  Downloading munch-2.5.0-py2.py3-none-any.whl (10 kB)\n",
            "Collecting click-plugins>=1.0\n",
            "  Downloading click_plugins-1.1.1-py2.py3-none-any.whl (7.5 kB)\n",
            "Requirement already satisfied: certifi in /usr/local/lib/python3.8/dist-packages (from fiona>=1.8->geopandas) (2022.12.7)\n",
            "Requirement already satisfied: attrs>=19.2.0 in /usr/local/lib/python3.8/dist-packages (from fiona>=1.8->geopandas) (22.2.0)\n",
            "Collecting click~=8.0\n",
            "  Downloading click-8.1.3-py3-none-any.whl (96 kB)\n",
            "\u001b[2K     \u001b[90m━━━━━━━━━━━━━━━━━━━━━━━━━━━━━━━━━━━━━━━━\u001b[0m \u001b[32m96.6/96.6 KB\u001b[0m \u001b[31m11.6 MB/s\u001b[0m eta \u001b[36m0:00:00\u001b[0m\n",
            "\u001b[?25hCollecting cligj>=0.5\n",
            "  Downloading cligj-0.7.2-py3-none-any.whl (7.1 kB)\n",
            "Requirement already satisfied: setuptools in /usr/local/lib/python3.8/dist-packages (from fiona>=1.8->geopandas) (57.4.0)\n",
            "Requirement already satisfied: python-dateutil>=2.7.3 in /usr/local/lib/python3.8/dist-packages (from pandas>=1.0.0->geopandas) (2.8.2)\n",
            "Requirement already satisfied: pytz>=2017.3 in /usr/local/lib/python3.8/dist-packages (from pandas>=1.0.0->geopandas) (2022.7.1)\n",
            "Requirement already satisfied: numpy>=1.17.3 in /usr/local/lib/python3.8/dist-packages (from pandas>=1.0.0->geopandas) (1.22.4)\n",
            "Requirement already satisfied: six in /usr/local/lib/python3.8/dist-packages (from munch>=2.3.2->fiona>=1.8->geopandas) (1.15.0)\n",
            "Installing collected packages: pyproj, munch, click, cligj, click-plugins, fiona, geopandas\n",
            "  Attempting uninstall: click\n",
            "    Found existing installation: click 7.1.2\n",
            "    Uninstalling click-7.1.2:\n",
            "      Successfully uninstalled click-7.1.2\n",
            "\u001b[31mERROR: pip's dependency resolver does not currently take into account all the packages that are installed. This behaviour is the source of the following dependency conflicts.\n",
            "flask 1.1.4 requires click<8.0,>=5.1, but you have click 8.1.3 which is incompatible.\u001b[0m\u001b[31m\n",
            "\u001b[0mSuccessfully installed click-8.1.3 click-plugins-1.1.1 cligj-0.7.2 fiona-1.9.1 geopandas-0.12.2 munch-2.5.0 pyproj-3.4.1\n",
            "Looking in indexes: https://pypi.org/simple, https://us-python.pkg.dev/colab-wheels/public/simple/\n",
            "Requirement already satisfied: shapely in /usr/local/lib/python3.8/dist-packages (2.0.1)\n",
            "Requirement already satisfied: numpy>=1.14 in /usr/local/lib/python3.8/dist-packages (from shapely) (1.22.4)\n",
            "Looking in indexes: https://pypi.org/simple, https://us-python.pkg.dev/colab-wheels/public/simple/\n",
            "Requirement already satisfied: matplotlib in /usr/local/lib/python3.8/dist-packages (3.5.3)\n",
            "Requirement already satisfied: pyparsing>=2.2.1 in /usr/local/lib/python3.8/dist-packages (from matplotlib) (3.0.9)\n",
            "Requirement already satisfied: python-dateutil>=2.7 in /usr/local/lib/python3.8/dist-packages (from matplotlib) (2.8.2)\n",
            "Requirement already satisfied: kiwisolver>=1.0.1 in /usr/local/lib/python3.8/dist-packages (from matplotlib) (1.4.4)\n",
            "Requirement already satisfied: numpy>=1.17 in /usr/local/lib/python3.8/dist-packages (from matplotlib) (1.22.4)\n",
            "Requirement already satisfied: pillow>=6.2.0 in /usr/local/lib/python3.8/dist-packages (from matplotlib) (7.1.2)\n",
            "Requirement already satisfied: fonttools>=4.22.0 in /usr/local/lib/python3.8/dist-packages (from matplotlib) (4.38.0)\n",
            "Requirement already satisfied: packaging>=20.0 in /usr/local/lib/python3.8/dist-packages (from matplotlib) (23.0)\n",
            "Requirement already satisfied: cycler>=0.10 in /usr/local/lib/python3.8/dist-packages (from matplotlib) (0.11.0)\n",
            "Requirement already satisfied: six>=1.5 in /usr/local/lib/python3.8/dist-packages (from python-dateutil>=2.7->matplotlib) (1.15.0)\n"
          ]
        }
      ]
    },
    {
      "cell_type": "code",
      "source": [
        "import geopandas as gpd\n",
        "\n",
        "# Read in the line file\n",
        "line = gpd.read_file(\"sungai.geojson\")\n",
        "\n",
        "# Read in the building file\n",
        "buildings = gpd.read_file(\"bangunan.geojson\")\n"
      ],
      "metadata": {
        "id": "rjI1pkkFoFBQ"
      },
      "execution_count": null,
      "outputs": []
    },
    {
      "cell_type": "code",
      "source": [
        "# Check the data in the line GeoDataFrame\n",
        "print(\"Line GeoDataFrame:\")\n",
        "print(line.head())\n",
        "\n",
        "# Check the data in the buildings GeoDataFrame\n",
        "print(\"Buildings GeoDataFrame:\")\n",
        "print(buildings.head())\n",
        "\n",
        "# Check the CRS of the GeoDataFrames\n",
        "print(\"Line CRS:\", line.crs)\n",
        "print(\"Buildings CRS:\", buildings.crs)\n"
      ],
      "metadata": {
        "id": "5dPnHeegpiLr",
        "colab": {
          "base_uri": "https://localhost:8080/"
        },
        "outputId": "3950d3b0-bf95-4fb7-916e-bb037da26682"
      },
      "execution_count": null,
      "outputs": [
        {
          "output_type": "stream",
          "name": "stdout",
          "text": [
            "Line GeoDataFrame:\n",
            "   id                                           geometry\n",
            "0   1  MULTILINESTRING ((12297340.908 -774762.255, 12...\n",
            "1   2  MULTILINESTRING ((12296520.256 -774768.289, 12...\n",
            "Buildings GeoDataFrame:\n",
            "          fid                                           geometry\n",
            "0  41779524.0  MULTIPOLYGON (((12296296.561 -774397.033, 1229...\n",
            "1  41779518.0  MULTIPOLYGON (((12296549.937 -774485.155, 1229...\n",
            "2  41779509.0  MULTIPOLYGON (((12296442.464 -774550.297, 1229...\n",
            "3  41779511.0  MULTIPOLYGON (((12296436.525 -774551.787, 1229...\n",
            "4  41779498.0  MULTIPOLYGON (((12296459.830 -774574.976, 1229...\n",
            "Line CRS: EPSG:3857\n",
            "Buildings CRS: EPSG:3857\n"
          ]
        }
      ]
    },
    {
      "cell_type": "code",
      "source": [
        "# Create a buffer of 50 meters around the line\n",
        "buffer = line.buffer(50)\n"
      ],
      "metadata": {
        "id": "w8M2tRX3oIKX"
      },
      "execution_count": null,
      "outputs": []
    },
    {
      "cell_type": "code",
      "source": [
        "print(buffer.head())"
      ],
      "metadata": {
        "id": "guJ0yeZpqr_l",
        "colab": {
          "base_uri": "https://localhost:8080/"
        },
        "outputId": "7dfe81e6-7387-45d4-ff6d-d072a42402f7"
      },
      "execution_count": null,
      "outputs": [
        {
          "output_type": "stream",
          "name": "stdout",
          "text": [
            "0    POLYGON ((12297900.503 -774914.185, 12298497.1...\n",
            "1    POLYGON ((12296703.141 -774909.649, 12296947.0...\n",
            "dtype: geometry\n"
          ]
        }
      ]
    },
    {
      "cell_type": "code",
      "source": [
        "# Convert buildings to points\n",
        "points = buildings.centroid\n"
      ],
      "metadata": {
        "id": "ZM1LD1fNoLSa"
      },
      "execution_count": null,
      "outputs": []
    },
    {
      "cell_type": "code",
      "source": [
        "# Reset the indices of the points GeoSeries\n",
        "points = points.reset_index(drop=True)\n",
        "\n",
        "# Count the number of points inside the buffer\n",
        "points_within_buffer = points[points.within(buffer.unary_union)]\n",
        "count = len(points_within_buffer)\n",
        "\n",
        "#count = points.within(buffer).sum()\n",
        "\n",
        "# Print the count\n",
        "print(\"Number of buildings inside the buffer:\", count)\n"
      ],
      "metadata": {
        "id": "Wq5cLQNjoOg0",
        "colab": {
          "base_uri": "https://localhost:8080/"
        },
        "outputId": "d93a0d97-ffd6-420c-98d9-f65a81fc9a3c"
      },
      "execution_count": null,
      "outputs": [
        {
          "output_type": "stream",
          "name": "stdout",
          "text": [
            "Number of buildings inside the buffer: 1039\n"
          ]
        }
      ]
    },
    {
      "cell_type": "code",
      "source": [
        "# Plot the buffer and points on a map\n",
        "ax = points.plot(color='red')\n",
        "buffer.plot(ax=ax, color='blue')\n",
        "ax.set_axis_off()\n"
      ],
      "metadata": {
        "id": "AmtYYQD4oQ64"
      },
      "execution_count": null,
      "outputs": []
    }
  ]
}